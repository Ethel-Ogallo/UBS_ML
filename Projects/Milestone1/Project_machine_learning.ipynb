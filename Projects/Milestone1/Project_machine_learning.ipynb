{
  "cells": [
    {
      "cell_type": "markdown",
      "metadata": {
        "id": "tLsSo5PGjkPN"
      },
      "source": [
        "# Crop Yield Estimation  \n",
        "\n",
        "**Dataset:** [Kaggle](https://www.kaggle.com/datasets/samuelotiattakorah/agriculture-crop-yield) – Agriculture Crop Yield  \n",
        "\n",
        "**Group Members:**  \n",
        "- Angelica Moreno   \n",
        "- Arunima Sen  \n",
        "- Ethel Ogallo\n",
        "\n",
        "\n",
        "\n",
        "\n",
        "\n"
      ]
    },
    {
      "cell_type": "markdown",
      "metadata": {
        "id": "GdMf5zF51V6R"
      },
      "source": [
        "## **Introduction**  \n",
        "This section introduces the data i.e\n",
        "\n",
        "* how and why was the data collected? what is the application domain?  \n",
        "* what is the learning task you will study?  \n",
        "* what are the features (meaning, types and categories if it applies)?  \n",
        "* what is the output variable (meaning, type and categories if it applies)?  \n",
        "\n"
      ]
    },
    {
      "cell_type": "markdown",
      "metadata": {
        "id": "aafqccdd6pRJ"
      },
      "source": [
        "The table belows shows the raw dataset"
      ]
    },
    {
      "cell_type": "code",
      "execution_count": 1,
      "metadata": {
        "colab": {
          "base_uri": "https://localhost:8080/",
          "height": 424
        },
        "id": "ZDSsQqWcmJiH",
        "outputId": "0f93ff04-0b78-4f0f-93a9-c43f4644ff33"
      },
      "outputs": [
        {
          "data": {
            "text/html": [
              "<div>\n",
              "<style scoped>\n",
              "    .dataframe tbody tr th:only-of-type {\n",
              "        vertical-align: middle;\n",
              "    }\n",
              "\n",
              "    .dataframe tbody tr th {\n",
              "        vertical-align: top;\n",
              "    }\n",
              "\n",
              "    .dataframe thead th {\n",
              "        text-align: right;\n",
              "    }\n",
              "</style>\n",
              "<table border=\"1\" class=\"dataframe\">\n",
              "  <thead>\n",
              "    <tr style=\"text-align: right;\">\n",
              "      <th></th>\n",
              "      <th>Region</th>\n",
              "      <th>Soil_Type</th>\n",
              "      <th>Crop</th>\n",
              "      <th>Rainfall_mm</th>\n",
              "      <th>Temperature_Celsius</th>\n",
              "      <th>Fertilizer_Used</th>\n",
              "      <th>Irrigation_Used</th>\n",
              "      <th>Weather_Condition</th>\n",
              "      <th>Days_to_Harvest</th>\n",
              "      <th>Yield_tons_per_hectare</th>\n",
              "    </tr>\n",
              "  </thead>\n",
              "  <tbody>\n",
              "    <tr>\n",
              "      <th>0</th>\n",
              "      <td>West</td>\n",
              "      <td>Sandy</td>\n",
              "      <td>Cotton</td>\n",
              "      <td>897.077239</td>\n",
              "      <td>27.676966</td>\n",
              "      <td>False</td>\n",
              "      <td>True</td>\n",
              "      <td>Cloudy</td>\n",
              "      <td>122</td>\n",
              "      <td>6.555816</td>\n",
              "    </tr>\n",
              "    <tr>\n",
              "      <th>1</th>\n",
              "      <td>South</td>\n",
              "      <td>Clay</td>\n",
              "      <td>Rice</td>\n",
              "      <td>992.673282</td>\n",
              "      <td>18.026142</td>\n",
              "      <td>True</td>\n",
              "      <td>True</td>\n",
              "      <td>Rainy</td>\n",
              "      <td>140</td>\n",
              "      <td>8.527341</td>\n",
              "    </tr>\n",
              "    <tr>\n",
              "      <th>2</th>\n",
              "      <td>North</td>\n",
              "      <td>Loam</td>\n",
              "      <td>Barley</td>\n",
              "      <td>147.998025</td>\n",
              "      <td>29.794042</td>\n",
              "      <td>False</td>\n",
              "      <td>False</td>\n",
              "      <td>Sunny</td>\n",
              "      <td>106</td>\n",
              "      <td>1.127443</td>\n",
              "    </tr>\n",
              "    <tr>\n",
              "      <th>3</th>\n",
              "      <td>North</td>\n",
              "      <td>Sandy</td>\n",
              "      <td>Soybean</td>\n",
              "      <td>986.866331</td>\n",
              "      <td>16.644190</td>\n",
              "      <td>False</td>\n",
              "      <td>True</td>\n",
              "      <td>Rainy</td>\n",
              "      <td>146</td>\n",
              "      <td>6.517573</td>\n",
              "    </tr>\n",
              "    <tr>\n",
              "      <th>4</th>\n",
              "      <td>South</td>\n",
              "      <td>Silt</td>\n",
              "      <td>Wheat</td>\n",
              "      <td>730.379174</td>\n",
              "      <td>31.620687</td>\n",
              "      <td>True</td>\n",
              "      <td>True</td>\n",
              "      <td>Cloudy</td>\n",
              "      <td>110</td>\n",
              "      <td>7.248251</td>\n",
              "    </tr>\n",
              "    <tr>\n",
              "      <th>...</th>\n",
              "      <td>...</td>\n",
              "      <td>...</td>\n",
              "      <td>...</td>\n",
              "      <td>...</td>\n",
              "      <td>...</td>\n",
              "      <td>...</td>\n",
              "      <td>...</td>\n",
              "      <td>...</td>\n",
              "      <td>...</td>\n",
              "      <td>...</td>\n",
              "    </tr>\n",
              "    <tr>\n",
              "      <th>999995</th>\n",
              "      <td>West</td>\n",
              "      <td>Silt</td>\n",
              "      <td>Rice</td>\n",
              "      <td>302.805345</td>\n",
              "      <td>27.987428</td>\n",
              "      <td>False</td>\n",
              "      <td>False</td>\n",
              "      <td>Sunny</td>\n",
              "      <td>76</td>\n",
              "      <td>1.347586</td>\n",
              "    </tr>\n",
              "    <tr>\n",
              "      <th>999996</th>\n",
              "      <td>South</td>\n",
              "      <td>Chalky</td>\n",
              "      <td>Barley</td>\n",
              "      <td>932.991383</td>\n",
              "      <td>39.661039</td>\n",
              "      <td>True</td>\n",
              "      <td>False</td>\n",
              "      <td>Rainy</td>\n",
              "      <td>93</td>\n",
              "      <td>7.311594</td>\n",
              "    </tr>\n",
              "    <tr>\n",
              "      <th>999997</th>\n",
              "      <td>North</td>\n",
              "      <td>Peaty</td>\n",
              "      <td>Cotton</td>\n",
              "      <td>867.362046</td>\n",
              "      <td>24.370042</td>\n",
              "      <td>True</td>\n",
              "      <td>False</td>\n",
              "      <td>Cloudy</td>\n",
              "      <td>108</td>\n",
              "      <td>5.763182</td>\n",
              "    </tr>\n",
              "    <tr>\n",
              "      <th>999998</th>\n",
              "      <td>West</td>\n",
              "      <td>Silt</td>\n",
              "      <td>Wheat</td>\n",
              "      <td>492.812857</td>\n",
              "      <td>33.045505</td>\n",
              "      <td>False</td>\n",
              "      <td>False</td>\n",
              "      <td>Sunny</td>\n",
              "      <td>102</td>\n",
              "      <td>2.070159</td>\n",
              "    </tr>\n",
              "    <tr>\n",
              "      <th>999999</th>\n",
              "      <td>West</td>\n",
              "      <td>Sandy</td>\n",
              "      <td>Maize</td>\n",
              "      <td>180.936180</td>\n",
              "      <td>27.298847</td>\n",
              "      <td>True</td>\n",
              "      <td>False</td>\n",
              "      <td>Sunny</td>\n",
              "      <td>76</td>\n",
              "      <td>2.937243</td>\n",
              "    </tr>\n",
              "  </tbody>\n",
              "</table>\n",
              "<p>1000000 rows × 10 columns</p>\n",
              "</div>"
            ],
            "text/plain": [
              "       Region Soil_Type     Crop  Rainfall_mm  Temperature_Celsius  \\\n",
              "0        West     Sandy   Cotton   897.077239            27.676966   \n",
              "1       South      Clay     Rice   992.673282            18.026142   \n",
              "2       North      Loam   Barley   147.998025            29.794042   \n",
              "3       North     Sandy  Soybean   986.866331            16.644190   \n",
              "4       South      Silt    Wheat   730.379174            31.620687   \n",
              "...       ...       ...      ...          ...                  ...   \n",
              "999995   West      Silt     Rice   302.805345            27.987428   \n",
              "999996  South    Chalky   Barley   932.991383            39.661039   \n",
              "999997  North     Peaty   Cotton   867.362046            24.370042   \n",
              "999998   West      Silt    Wheat   492.812857            33.045505   \n",
              "999999   West     Sandy    Maize   180.936180            27.298847   \n",
              "\n",
              "        Fertilizer_Used  Irrigation_Used Weather_Condition  Days_to_Harvest  \\\n",
              "0                 False             True            Cloudy              122   \n",
              "1                  True             True             Rainy              140   \n",
              "2                 False            False             Sunny              106   \n",
              "3                 False             True             Rainy              146   \n",
              "4                  True             True            Cloudy              110   \n",
              "...                 ...              ...               ...              ...   \n",
              "999995            False            False             Sunny               76   \n",
              "999996             True            False             Rainy               93   \n",
              "999997             True            False            Cloudy              108   \n",
              "999998            False            False             Sunny              102   \n",
              "999999             True            False             Sunny               76   \n",
              "\n",
              "        Yield_tons_per_hectare  \n",
              "0                     6.555816  \n",
              "1                     8.527341  \n",
              "2                     1.127443  \n",
              "3                     6.517573  \n",
              "4                     7.248251  \n",
              "...                        ...  \n",
              "999995                1.347586  \n",
              "999996                7.311594  \n",
              "999997                5.763182  \n",
              "999998                2.070159  \n",
              "999999                2.937243  \n",
              "\n",
              "[1000000 rows x 10 columns]"
            ]
          },
          "execution_count": 1,
          "metadata": {},
          "output_type": "execute_result"
        }
      ],
      "source": [
        "import pandas as pd\n",
        "\n",
        "# Read the csv\n",
        "data = pd.read_csv(\"./crop_yield.csv\")\n",
        "data"
      ]
    },
    {
      "cell_type": "markdown",
      "metadata": {
        "id": "BmSZGlcGbflj"
      },
      "source": [
        "\n",
        "\n",
        "**How and why was the data collected? what is the application domain?**  \n",
        "This dataset contains synthetically generated agricultural samples created for the purpose of practicing machine learning models, specifically for predicting crop yield. Although it is not collected from real-world field measurements or agricultural study, the data is based on commonly understood agricultural factors that influence crop yield.  \n",
        "\n",
        "**What is the learning task you will study?**   \n",
        "The learning task for this dataset is *supervised regression*."
      ]
    },
    {
      "cell_type": "markdown",
      "metadata": {
        "id": "BgirE0EmtOUj"
      },
      "source": [
        "**Dataset Features**"
      ]
    },
    {
      "cell_type": "code",
      "execution_count": 2,
      "metadata": {
        "colab": {
          "base_uri": "https://localhost:8080/"
        },
        "id": "XEJTOFOupDAy",
        "outputId": "c08d541b-5b2c-4950-e009-9bf23ff5137e"
      },
      "outputs": [
        {
          "name": "stdout",
          "output_type": "stream",
          "text": [
            "<class 'pandas.core.frame.DataFrame'>\n",
            "RangeIndex: 1000000 entries, 0 to 999999\n",
            "Data columns (total 10 columns):\n",
            " #   Column                  Non-Null Count    Dtype  \n",
            "---  ------                  --------------    -----  \n",
            " 0   Region                  1000000 non-null  object \n",
            " 1   Soil_Type               1000000 non-null  object \n",
            " 2   Crop                    1000000 non-null  object \n",
            " 3   Rainfall_mm             1000000 non-null  float64\n",
            " 4   Temperature_Celsius     1000000 non-null  float64\n",
            " 5   Fertilizer_Used         1000000 non-null  bool   \n",
            " 6   Irrigation_Used         1000000 non-null  bool   \n",
            " 7   Weather_Condition       1000000 non-null  object \n",
            " 8   Days_to_Harvest         1000000 non-null  int64  \n",
            " 9   Yield_tons_per_hectare  1000000 non-null  float64\n",
            "dtypes: bool(2), float64(3), int64(1), object(4)\n",
            "memory usage: 62.9+ MB\n",
            "None\n"
          ]
        }
      ],
      "source": [
        "# inspect data columns and type\n",
        "print(data.info())"
      ]
    },
    {
      "cell_type": "code",
      "execution_count": 3,
      "metadata": {
        "colab": {
          "base_uri": "https://localhost:8080/"
        },
        "id": "YcTbSnK4r_Qu",
        "outputId": "fc4bf653-d803-4799-b1a0-86264afb39f6"
      },
      "outputs": [
        {
          "name": "stdout",
          "output_type": "stream",
          "text": [
            "Region: ['West' 'South' 'North' 'East']\n",
            "\n",
            "Soil_Type: ['Sandy' 'Clay' 'Loam' 'Silt' 'Peaty' 'Chalky']\n",
            "\n",
            "Crop: ['Cotton' 'Rice' 'Barley' 'Soybean' 'Wheat' 'Maize']\n",
            "\n",
            "Fertilizer_Used: [False  True]\n",
            "\n",
            "Irrigation_Used: [ True False]\n",
            "\n",
            "Weather_Condition: ['Cloudy' 'Rainy' 'Sunny']\n",
            "\n"
          ]
        }
      ],
      "source": [
        "# filter out categorical columns\n",
        "categorical_data = ['Region', 'Soil_Type', 'Crop', 'Fertilizer_Used', 'Irrigation_Used', 'Weather_Condition']\n",
        "\n",
        "# print the unique categories of each column\n",
        "for col in categorical_data:\n",
        "    print(f\"{col}: {data[col].unique()}\\n\")"
      ]
    },
    {
      "cell_type": "markdown",
      "metadata": {
        "id": "OtDg_IeJfKeB"
      },
      "source": [
        "\n",
        "\n",
        "**Categorical variables:**  \n",
        "*   Region - The geographical region where the crop is grown (West, South, North, East).\n",
        "*   Soil Type - The type of soil (Sandy,Clay,Loam,Silt,Peaty,Chalky) .\n",
        "*   Crop - The type of crop grown (Cotton, Rice,Barley,Soybean, Wheat, Maize).\n",
        "*   Weather Condition - The predominant weather condition (Cloudy,Rainy,Sunny).\n",
        "*   Fertilizer_Used - Indicates whether fertilizer was applied (False,True).\n",
        "*   Irrigation_Used - Indicates whether irrigation was used (True, False ).\n",
        "\n",
        "**Numerical variables:**\n",
        "\n",
        "*   Rainfall_mm - Rainfall during the crop growth period in mm\n",
        "*   Temperature_Celsius - Average temperature during the crop growth period in celsius\n",
        "*   Days_to_Harvest - The number of days taken for the crop to be harvested after planting\n",
        "\n"
      ]
    },
    {
      "cell_type": "markdown",
      "metadata": {
        "id": "RZ4PlWidqDII"
      },
      "source": [
        "**Output variable**    \n",
        "- Yield_tons_per_hectare - A numerical continuous variable that is the total crop yield produced, measured in tons per hectare."
      ]
    },
    {
      "cell_type": "markdown",
      "metadata": {
        "id": "hA0_NO_1bzp1"
      },
      "source": [
        "## **Exploratory Data Analysis**\n",
        "This section describes the dataset using figures and descriptive statistics"
      ]
    },
    {
      "cell_type": "markdown",
      "metadata": {
        "id": "fC2imLWpqXvy"
      },
      "source": [
        "The table below gives an overview of the summary statistics (average, min, max, std etc) of the numerical features: `Rainfall_mm`,`Temperature_Celsius`, `Days_to_Harvest` and `Yield_tons_per_hectare`"
      ]
    },
    {
      "cell_type": "code",
      "execution_count": 4,
      "metadata": {
        "colab": {
          "base_uri": "https://localhost:8080/",
          "height": 300
        },
        "id": "8_SCsuNJrNep",
        "outputId": "e98f9c98-80cd-4a14-8fe5-348fe4fe7056"
      },
      "outputs": [
        {
          "data": {
            "text/html": [
              "<div>\n",
              "<style scoped>\n",
              "    .dataframe tbody tr th:only-of-type {\n",
              "        vertical-align: middle;\n",
              "    }\n",
              "\n",
              "    .dataframe tbody tr th {\n",
              "        vertical-align: top;\n",
              "    }\n",
              "\n",
              "    .dataframe thead th {\n",
              "        text-align: right;\n",
              "    }\n",
              "</style>\n",
              "<table border=\"1\" class=\"dataframe\">\n",
              "  <thead>\n",
              "    <tr style=\"text-align: right;\">\n",
              "      <th></th>\n",
              "      <th>Rainfall_mm</th>\n",
              "      <th>Temperature_Celsius</th>\n",
              "      <th>Days_to_Harvest</th>\n",
              "      <th>Yield_tons_per_hectare</th>\n",
              "    </tr>\n",
              "  </thead>\n",
              "  <tbody>\n",
              "    <tr>\n",
              "      <th>count</th>\n",
              "      <td>1000000.000000</td>\n",
              "      <td>1000000.000000</td>\n",
              "      <td>1000000.000000</td>\n",
              "      <td>1000000.000000</td>\n",
              "    </tr>\n",
              "    <tr>\n",
              "      <th>mean</th>\n",
              "      <td>549.981901</td>\n",
              "      <td>27.504965</td>\n",
              "      <td>104.495025</td>\n",
              "      <td>4.649472</td>\n",
              "    </tr>\n",
              "    <tr>\n",
              "      <th>std</th>\n",
              "      <td>259.851320</td>\n",
              "      <td>7.220608</td>\n",
              "      <td>25.953412</td>\n",
              "      <td>1.696572</td>\n",
              "    </tr>\n",
              "    <tr>\n",
              "      <th>min</th>\n",
              "      <td>100.000896</td>\n",
              "      <td>15.000034</td>\n",
              "      <td>60.000000</td>\n",
              "      <td>-1.147613</td>\n",
              "    </tr>\n",
              "    <tr>\n",
              "      <th>25%</th>\n",
              "      <td>324.891090</td>\n",
              "      <td>21.254502</td>\n",
              "      <td>82.000000</td>\n",
              "      <td>3.417637</td>\n",
              "    </tr>\n",
              "    <tr>\n",
              "      <th>50%</th>\n",
              "      <td>550.124061</td>\n",
              "      <td>27.507365</td>\n",
              "      <td>104.000000</td>\n",
              "      <td>4.651808</td>\n",
              "    </tr>\n",
              "    <tr>\n",
              "      <th>75%</th>\n",
              "      <td>774.738520</td>\n",
              "      <td>33.753267</td>\n",
              "      <td>127.000000</td>\n",
              "      <td>5.879200</td>\n",
              "    </tr>\n",
              "    <tr>\n",
              "      <th>max</th>\n",
              "      <td>999.998098</td>\n",
              "      <td>39.999997</td>\n",
              "      <td>149.000000</td>\n",
              "      <td>9.963372</td>\n",
              "    </tr>\n",
              "  </tbody>\n",
              "</table>\n",
              "</div>"
            ],
            "text/plain": [
              "          Rainfall_mm  Temperature_Celsius  Days_to_Harvest  \\\n",
              "count  1000000.000000       1000000.000000   1000000.000000   \n",
              "mean       549.981901            27.504965       104.495025   \n",
              "std        259.851320             7.220608        25.953412   \n",
              "min        100.000896            15.000034        60.000000   \n",
              "25%        324.891090            21.254502        82.000000   \n",
              "50%        550.124061            27.507365       104.000000   \n",
              "75%        774.738520            33.753267       127.000000   \n",
              "max        999.998098            39.999997       149.000000   \n",
              "\n",
              "       Yield_tons_per_hectare  \n",
              "count          1000000.000000  \n",
              "mean                 4.649472  \n",
              "std                  1.696572  \n",
              "min                 -1.147613  \n",
              "25%                  3.417637  \n",
              "50%                  4.651808  \n",
              "75%                  5.879200  \n",
              "max                  9.963372  "
            ]
          },
          "execution_count": 4,
          "metadata": {},
          "output_type": "execute_result"
        }
      ],
      "source": [
        "# descriptive statistical analysis for numerical data\n",
        "data.describe()"
      ]
    },
    {
      "cell_type": "markdown",
      "metadata": {
        "id": "vfdCHDQIq2qu"
      },
      "source": [
        "The table below gives a descriptive statitsical summary of the categorical features: `Region`,`Soil_Type`,`Crop`,`Fertilizer_used`,`Irrigation_Used`,`Weather_Condition`"
      ]
    },
    {
      "cell_type": "code",
      "execution_count": 5,
      "metadata": {
        "colab": {
          "base_uri": "https://localhost:8080/",
          "height": 175
        },
        "id": "PTKQe4l5r1aR",
        "outputId": "94ced43e-2acc-4d90-ba2a-af113a6e7acb"
      },
      "outputs": [
        {
          "data": {
            "text/html": [
              "<div>\n",
              "<style scoped>\n",
              "    .dataframe tbody tr th:only-of-type {\n",
              "        vertical-align: middle;\n",
              "    }\n",
              "\n",
              "    .dataframe tbody tr th {\n",
              "        vertical-align: top;\n",
              "    }\n",
              "\n",
              "    .dataframe thead th {\n",
              "        text-align: right;\n",
              "    }\n",
              "</style>\n",
              "<table border=\"1\" class=\"dataframe\">\n",
              "  <thead>\n",
              "    <tr style=\"text-align: right;\">\n",
              "      <th></th>\n",
              "      <th>Region</th>\n",
              "      <th>Soil_Type</th>\n",
              "      <th>Crop</th>\n",
              "      <th>Fertilizer_Used</th>\n",
              "      <th>Irrigation_Used</th>\n",
              "      <th>Weather_Condition</th>\n",
              "    </tr>\n",
              "  </thead>\n",
              "  <tbody>\n",
              "    <tr>\n",
              "      <th>count</th>\n",
              "      <td>1000000</td>\n",
              "      <td>1000000</td>\n",
              "      <td>1000000</td>\n",
              "      <td>1000000</td>\n",
              "      <td>1000000</td>\n",
              "      <td>1000000</td>\n",
              "    </tr>\n",
              "    <tr>\n",
              "      <th>unique</th>\n",
              "      <td>4</td>\n",
              "      <td>6</td>\n",
              "      <td>6</td>\n",
              "      <td>2</td>\n",
              "      <td>2</td>\n",
              "      <td>3</td>\n",
              "    </tr>\n",
              "    <tr>\n",
              "      <th>top</th>\n",
              "      <td>North</td>\n",
              "      <td>Sandy</td>\n",
              "      <td>Maize</td>\n",
              "      <td>False</td>\n",
              "      <td>False</td>\n",
              "      <td>Sunny</td>\n",
              "    </tr>\n",
              "    <tr>\n",
              "      <th>freq</th>\n",
              "      <td>250173</td>\n",
              "      <td>167119</td>\n",
              "      <td>166824</td>\n",
              "      <td>500060</td>\n",
              "      <td>500509</td>\n",
              "      <td>333790</td>\n",
              "    </tr>\n",
              "  </tbody>\n",
              "</table>\n",
              "</div>"
            ],
            "text/plain": [
              "         Region Soil_Type     Crop Fertilizer_Used Irrigation_Used  \\\n",
              "count   1000000   1000000  1000000         1000000         1000000   \n",
              "unique        4         6        6               2               2   \n",
              "top       North     Sandy    Maize           False           False   \n",
              "freq     250173    167119   166824          500060          500509   \n",
              "\n",
              "       Weather_Condition  \n",
              "count            1000000  \n",
              "unique                 3  \n",
              "top                Sunny  \n",
              "freq              333790  "
            ]
          },
          "execution_count": 5,
          "metadata": {},
          "output_type": "execute_result"
        }
      ],
      "source": [
        "# descriptive stats for categorical data\n",
        "data.describe(include=['object','bool'])"
      ]
    },
    {
      "cell_type": "markdown",
      "metadata": {
        "id": "9bIUG4M9otEK"
      },
      "source": [
        "**comment:**  \n",
        "Based on the summary statistics above , we can observe that there are no null or missing values in the numerical features. We can see in the target variable `Yield_tons_per_hectare` there are negative values that need to be investigated further."
      ]
    },
    {
      "cell_type": "markdown",
      "metadata": {
        "id": "Gxg4wluJsLqx"
      },
      "source": [
        "### **Figures describing features**  \n",
        "Visualizations showing the relationship and the distribution of the features in the dataset.  "
      ]
    },
    {
      "cell_type": "markdown",
      "metadata": {
        "id": "tpKEwup4qAO7"
      },
      "source": [
        "The figure below shows the distribution of crop yield across all the observations."
      ]
    },
    {
      "cell_type": "code",
      "execution_count": 6,
      "metadata": {
        "colab": {
          "base_uri": "https://localhost:8080/",
          "height": 487
        },
        "id": "AygDAQ9Qb1eS",
        "outputId": "6600c20b-8a19-4f27-e89e-30bddfffaf59"
      },
      "outputs": [
        {
          "data": {
            "image/png": "[encoded data removed]",
            "text/plain": [
              "<Figure size 800x500 with 1 Axes>"
            ]
          },
          "metadata": {},
          "output_type": "display_data"
        }
      ],
      "source": [
        "# Distribution of crop yield variable\n",
        "import matplotlib.pyplot as plt\n",
        "import seaborn as sns\n",
        "\n",
        "plt.figure(figsize=(8,5))\n",
        "sns.histplot(data['Yield_tons_per_hectare'], kde=True, bins=30)\n",
        "plt.title(\"Distribution of crop yield (tons per hectare)\")\n",
        "plt.xlabel(\"Yield (tons/ha)\")\n",
        "plt.ylabel(\"Frequency\")\n",
        "plt.show()"
      ]
    },
    {
      "cell_type": "markdown",
      "metadata": {
        "id": "qWLPuRi2vgjy"
      },
      "source": [
        "**comment**  \n",
        "The distribution is continuous and approximately normal (bell-shaped), with majority of the data around the mean. We also observe slight deviations such as a small tail below zero which should be impossible for yield but may be data noise or error."
      ]
    },
    {
      "cell_type": "markdown",
      "metadata": {
        "id": "-sHLiIr7tO88"
      },
      "source": [
        "The figure below shows a pairwise correlation matrix that shows the relationship between all the numerical features."
      ]
    },
    {
      "cell_type": "code",
      "execution_count": 18,
      "metadata": {
        "colab": {
          "base_uri": "https://localhost:8080/",
          "height": 598
        },
        "id": "dNSV57kUt-Ha",
        "outputId": "86071296-588a-4fed-bdef-88236c0a6f41"
      },
      "outputs": [
        {
          "data": {
            "image/png": "[encoded data removed]",
            "text/plain": [
              "<Figure size 640x480 with 2 Axes>"
            ]
          },
          "metadata": {},
          "output_type": "display_data"
        }
      ],
      "source": [
        "# visualizations of the relationships of the numerical features\n",
        "numeric_data = [\"Rainfall_mm\", \"Temperature_Celsius\", \"Days_to_Harvest\", \"Yield_tons_per_hectare\"]\n",
        "sns.heatmap(data[numeric_data].corr(), annot=True, cmap=\"coolwarm\")\n",
        "plt.title(\"Correlation Between Numerical Features\",fontweight='bold', pad=12)\n",
        "plt.show()"
      ]
    },
    {
      "cell_type": "markdown",
      "metadata": {
        "id": "sfk7UR7l3sAT"
      },
      "source": [
        "**comment:**  \n",
        "There is a strong positive correlation of 0.76. This suggests that higher rainfall tends to be associated with a higher yield. Temperature and days to harvest have a weaker correlation to yield."
      ]
    },
    {
      "cell_type": "markdown",
      "metadata": {
        "id": "qWjIhKgbs-nf"
      },
      "source": [
        "The figure below shows a boxplot showing the distribution of crop yield per crop type."
      ]
    },
    {
      "cell_type": "code",
      "execution_count": 8,
      "metadata": {
        "colab": {
          "base_uri": "https://localhost:8080/",
          "height": 510
        },
        "id": "gQDGggRbdCFe",
        "outputId": "d4ed574b-cb30-4f5f-d84d-ff58d9d08292"
      },
      "outputs": [
        {
          "data": {
            "image/png": "[encoded data removed]",
            "text/plain": [
              "<Figure size 640x480 with 1 Axes>"
            ]
          },
          "metadata": {},
          "output_type": "display_data"
        }
      ],
      "source": [
        "# distribution of yield per crop type\n",
        "sns.boxplot(data, x='Crop', y='Yield_tons_per_hectare')\n",
        "plt.xticks(rotation=45)\n",
        "plt.title(\"Yield distribution per Crop type\")\n",
        "plt.show()\n"
      ]
    },
    {
      "cell_type": "markdown",
      "metadata": {
        "id": "MnFFsToNs_Wy"
      },
      "source": [
        "**comment**  \n",
        "This distribution is balanced per category however there are outliers in each of the crop type. There are several negative observations and given that crop yield cannot be negative this should be investigated and dealt with."
      ]
    },
    {
      "cell_type": "markdown",
      "metadata": {
        "id": "JNnNnODbCoL6"
      },
      "source": [
        "The figure below shows the distribution of crop yield per region"
      ]
    },
    {
      "cell_type": "code",
      "execution_count": 9,
      "metadata": {
        "colab": {
          "base_uri": "https://localhost:8080/",
          "height": 496
        },
        "id": "YhTI73IHKRAt",
        "outputId": "a595275d-8501-495e-8096-e7c896bb62b8"
      },
      "outputs": [
        {
          "data": {
            "image/png": "[encoded data removed]",
            "text/plain": [
              "<Figure size 640x480 with 1 Axes>"
            ]
          },
          "metadata": {},
          "output_type": "display_data"
        }
      ],
      "source": [
        "# distribution of yield per region\n",
        "sns.boxplot(data, x='Region', y='Yield_tons_per_hectare')\n",
        "plt.xticks(rotation=45)\n",
        "plt.title(\"Yield distribution per region\")\n",
        "plt.show()"
      ]
    },
    {
      "cell_type": "markdown",
      "metadata": {
        "id": "GMGcwhEfJ-0z"
      },
      "source": [
        "The distribution per region is also balanced and the negative outliers are also observed in this conntext."
      ]
    },
    {
      "cell_type": "markdown",
      "metadata": {
        "id": "9t9Wh0aYppF5"
      },
      "source": [
        "### **Preprocessing**\n",
        "\n",
        "\n",
        "\n",
        "\n"
      ]
    },
    {
      "cell_type": "markdown",
      "metadata": {
        "id": "VaSQqXJLfmmo"
      },
      "source": [
        "**Managing outliers or missing values**  \n",
        "We note that this data does not have missing values from the statistics. It however has some outliers in the `yield_tons_per_hectare` variable as seen from the box plot previously."
      ]
    },
    {
      "cell_type": "code",
      "execution_count": 10,
      "metadata": {
        "colab": {
          "base_uri": "https://localhost:8080/",
          "height": 398
        },
        "id": "d0O0MEOCD8bB",
        "outputId": "d05b60ac-1348-43d5-ceb0-e33ea8eaadac"
      },
      "outputs": [
        {
          "data": {
            "text/plain": [
              "Region                    0\n",
              "Soil_Type                 0\n",
              "Crop                      0\n",
              "Rainfall_mm               0\n",
              "Temperature_Celsius       0\n",
              "Fertilizer_Used           0\n",
              "Irrigation_Used           0\n",
              "Weather_Condition         0\n",
              "Days_to_Harvest           0\n",
              "Yield_tons_per_hectare    0\n",
              "dtype: int64"
            ]
          },
          "execution_count": 10,
          "metadata": {},
          "output_type": "execute_result"
        }
      ],
      "source": [
        "# missing values\n",
        "data.isnull().sum()"
      ]
    },
    {
      "cell_type": "markdown",
      "metadata": {
        "id": "wxnpPhrlEBpV"
      },
      "source": [
        "**comment:**  \n",
        "As earlier observed the data does not have missing values in any of the features"
      ]
    },
    {
      "cell_type": "markdown",
      "metadata": {
        "id": "CxBkp-3CETCs"
      },
      "source": [
        "The table below shows the observations with a negative yield value"
      ]
    },
    {
      "cell_type": "code",
      "execution_count": 11,
      "metadata": {
        "colab": {
          "base_uri": "https://localhost:8080/",
          "height": 424
        },
        "id": "XY3uup3ieNPd",
        "outputId": "4537f89c-e55d-4283-e85e-048165e829af"
      },
      "outputs": [
        {
          "data": {
            "text/html": [
              "<div>\n",
              "<style scoped>\n",
              "    .dataframe tbody tr th:only-of-type {\n",
              "        vertical-align: middle;\n",
              "    }\n",
              "\n",
              "    .dataframe tbody tr th {\n",
              "        vertical-align: top;\n",
              "    }\n",
              "\n",
              "    .dataframe thead th {\n",
              "        text-align: right;\n",
              "    }\n",
              "</style>\n",
              "<table border=\"1\" class=\"dataframe\">\n",
              "  <thead>\n",
              "    <tr style=\"text-align: right;\">\n",
              "      <th></th>\n",
              "      <th>Region</th>\n",
              "      <th>Soil_Type</th>\n",
              "      <th>Crop</th>\n",
              "      <th>Rainfall_mm</th>\n",
              "      <th>Temperature_Celsius</th>\n",
              "      <th>Fertilizer_Used</th>\n",
              "      <th>Irrigation_Used</th>\n",
              "      <th>Weather_Condition</th>\n",
              "      <th>Days_to_Harvest</th>\n",
              "      <th>Yield_tons_per_hectare</th>\n",
              "    </tr>\n",
              "  </thead>\n",
              "  <tbody>\n",
              "    <tr>\n",
              "      <th>756</th>\n",
              "      <td>East</td>\n",
              "      <td>Peaty</td>\n",
              "      <td>Cotton</td>\n",
              "      <td>101.019421</td>\n",
              "      <td>33.804131</td>\n",
              "      <td>False</td>\n",
              "      <td>False</td>\n",
              "      <td>Rainy</td>\n",
              "      <td>117</td>\n",
              "      <td>-0.007103</td>\n",
              "    </tr>\n",
              "    <tr>\n",
              "      <th>7799</th>\n",
              "      <td>South</td>\n",
              "      <td>Chalky</td>\n",
              "      <td>Rice</td>\n",
              "      <td>108.804894</td>\n",
              "      <td>18.004082</td>\n",
              "      <td>False</td>\n",
              "      <td>False</td>\n",
              "      <td>Sunny</td>\n",
              "      <td>86</td>\n",
              "      <td>-0.061283</td>\n",
              "    </tr>\n",
              "    <tr>\n",
              "      <th>8421</th>\n",
              "      <td>East</td>\n",
              "      <td>Chalky</td>\n",
              "      <td>Soybean</td>\n",
              "      <td>168.120735</td>\n",
              "      <td>38.473430</td>\n",
              "      <td>False</td>\n",
              "      <td>False</td>\n",
              "      <td>Cloudy</td>\n",
              "      <td>111</td>\n",
              "      <td>-0.119911</td>\n",
              "    </tr>\n",
              "    <tr>\n",
              "      <th>9553</th>\n",
              "      <td>North</td>\n",
              "      <td>Silt</td>\n",
              "      <td>Wheat</td>\n",
              "      <td>156.607973</td>\n",
              "      <td>16.610257</td>\n",
              "      <td>False</td>\n",
              "      <td>False</td>\n",
              "      <td>Sunny</td>\n",
              "      <td>129</td>\n",
              "      <td>-0.193093</td>\n",
              "    </tr>\n",
              "    <tr>\n",
              "      <th>15435</th>\n",
              "      <td>South</td>\n",
              "      <td>Chalky</td>\n",
              "      <td>Maize</td>\n",
              "      <td>177.481344</td>\n",
              "      <td>27.719742</td>\n",
              "      <td>False</td>\n",
              "      <td>False</td>\n",
              "      <td>Sunny</td>\n",
              "      <td>94</td>\n",
              "      <td>-0.009811</td>\n",
              "    </tr>\n",
              "    <tr>\n",
              "      <th>...</th>\n",
              "      <td>...</td>\n",
              "      <td>...</td>\n",
              "      <td>...</td>\n",
              "      <td>...</td>\n",
              "      <td>...</td>\n",
              "      <td>...</td>\n",
              "      <td>...</td>\n",
              "      <td>...</td>\n",
              "      <td>...</td>\n",
              "      <td>...</td>\n",
              "    </tr>\n",
              "    <tr>\n",
              "      <th>975666</th>\n",
              "      <td>South</td>\n",
              "      <td>Clay</td>\n",
              "      <td>Barley</td>\n",
              "      <td>116.114046</td>\n",
              "      <td>16.257818</td>\n",
              "      <td>False</td>\n",
              "      <td>False</td>\n",
              "      <td>Sunny</td>\n",
              "      <td>70</td>\n",
              "      <td>-0.471038</td>\n",
              "    </tr>\n",
              "    <tr>\n",
              "      <th>982738</th>\n",
              "      <td>West</td>\n",
              "      <td>Loam</td>\n",
              "      <td>Wheat</td>\n",
              "      <td>235.792353</td>\n",
              "      <td>31.699429</td>\n",
              "      <td>False</td>\n",
              "      <td>False</td>\n",
              "      <td>Sunny</td>\n",
              "      <td>68</td>\n",
              "      <td>-0.255772</td>\n",
              "    </tr>\n",
              "    <tr>\n",
              "      <th>987054</th>\n",
              "      <td>West</td>\n",
              "      <td>Peaty</td>\n",
              "      <td>Barley</td>\n",
              "      <td>100.467398</td>\n",
              "      <td>15.735951</td>\n",
              "      <td>False</td>\n",
              "      <td>False</td>\n",
              "      <td>Rainy</td>\n",
              "      <td>96</td>\n",
              "      <td>-0.120282</td>\n",
              "    </tr>\n",
              "    <tr>\n",
              "      <th>995837</th>\n",
              "      <td>East</td>\n",
              "      <td>Chalky</td>\n",
              "      <td>Maize</td>\n",
              "      <td>105.575189</td>\n",
              "      <td>15.864764</td>\n",
              "      <td>False</td>\n",
              "      <td>False</td>\n",
              "      <td>Rainy</td>\n",
              "      <td>111</td>\n",
              "      <td>-0.051633</td>\n",
              "    </tr>\n",
              "    <tr>\n",
              "      <th>998040</th>\n",
              "      <td>North</td>\n",
              "      <td>Chalky</td>\n",
              "      <td>Maize</td>\n",
              "      <td>184.671094</td>\n",
              "      <td>29.176601</td>\n",
              "      <td>False</td>\n",
              "      <td>False</td>\n",
              "      <td>Sunny</td>\n",
              "      <td>92</td>\n",
              "      <td>-0.125976</td>\n",
              "    </tr>\n",
              "  </tbody>\n",
              "</table>\n",
              "<p>231 rows × 10 columns</p>\n",
              "</div>"
            ],
            "text/plain": [
              "       Region Soil_Type     Crop  Rainfall_mm  Temperature_Celsius  \\\n",
              "756      East     Peaty   Cotton   101.019421            33.804131   \n",
              "7799    South    Chalky     Rice   108.804894            18.004082   \n",
              "8421     East    Chalky  Soybean   168.120735            38.473430   \n",
              "9553    North      Silt    Wheat   156.607973            16.610257   \n",
              "15435   South    Chalky    Maize   177.481344            27.719742   \n",
              "...       ...       ...      ...          ...                  ...   \n",
              "975666  South      Clay   Barley   116.114046            16.257818   \n",
              "982738   West      Loam    Wheat   235.792353            31.699429   \n",
              "987054   West     Peaty   Barley   100.467398            15.735951   \n",
              "995837   East    Chalky    Maize   105.575189            15.864764   \n",
              "998040  North    Chalky    Maize   184.671094            29.176601   \n",
              "\n",
              "        Fertilizer_Used  Irrigation_Used Weather_Condition  Days_to_Harvest  \\\n",
              "756               False            False             Rainy              117   \n",
              "7799              False            False             Sunny               86   \n",
              "8421              False            False            Cloudy              111   \n",
              "9553              False            False             Sunny              129   \n",
              "15435             False            False             Sunny               94   \n",
              "...                 ...              ...               ...              ...   \n",
              "975666            False            False             Sunny               70   \n",
              "982738            False            False             Sunny               68   \n",
              "987054            False            False             Rainy               96   \n",
              "995837            False            False             Rainy              111   \n",
              "998040            False            False             Sunny               92   \n",
              "\n",
              "        Yield_tons_per_hectare  \n",
              "756                  -0.007103  \n",
              "7799                 -0.061283  \n",
              "8421                 -0.119911  \n",
              "9553                 -0.193093  \n",
              "15435                -0.009811  \n",
              "...                        ...  \n",
              "975666               -0.471038  \n",
              "982738               -0.255772  \n",
              "987054               -0.120282  \n",
              "995837               -0.051633  \n",
              "998040               -0.125976  \n",
              "\n",
              "[231 rows x 10 columns]"
            ]
          },
          "execution_count": 11,
          "metadata": {},
          "output_type": "execute_result"
        }
      ],
      "source": [
        "# number of negatives in yield_tons_per_hectare\n",
        "data[data['Yield_tons_per_hectare'] < 0]"
      ]
    },
    {
      "cell_type": "markdown",
      "metadata": {
        "id": "U8tGOpZUtfZK"
      },
      "source": [
        "**comment:**  \n",
        "The negative yield are 231 observations which is about 0.02% of the data given the 1,000,000 data points in the full dataset"
      ]
    },
    {
      "cell_type": "markdown",
      "metadata": {
        "id": "TOCbAN4atvF8"
      },
      "source": [
        "To address the negative outliers we deleted them as they could be erroneous data within the data points. Crop yield cannot be negative unless comparing different years' production which is not the case in this context"
      ]
    },
    {
      "cell_type": "code",
      "execution_count": 12,
      "metadata": {
        "id": "vERbTFK1fW0U"
      },
      "outputs": [],
      "source": [
        "# delete the ouliers (231 data points)\n",
        "data2 = data[data['Yield_tons_per_hectare'] >= 0]\n"
      ]
    },
    {
      "cell_type": "markdown",
      "metadata": {
        "id": "2vaTlqkuuopp"
      },
      "source": [
        "**comment:**  \n",
        "We only deleted the negative values of crop yield , we also have some *outliers* on the positive end however these could be reralistic i.e. high yield due to optimal conditions such as high precipitation or best soil type etc"
      ]
    },
    {
      "cell_type": "markdown",
      "metadata": {
        "id": "GHsg98dku141"
      },
      "source": [
        "**Normalizing numeric features**   \n",
        "We standardize all numerical features (Rainfall_mm, Temperature_Celsius, and Days_to_Harvest) because the features are measured on different scales and units (e.g., rainfall in mm vs. temperature in degrees Celsius).\n",
        "This will ensure that features such as rainfall that have a larger numerical range do not overshadow the others in the model training.  \n",
        "\n",
        "However before we standardize we split the data into training and test sets and further inorder to avoid data leakage, the scaler will be fitted  only on the training data and then applied to transform both the training and test sets in the model training pipeline"
      ]
    },
    {
      "cell_type": "code",
      "execution_count": 13,
      "metadata": {
        "colab": {
          "base_uri": "https://localhost:8080/"
        },
        "id": "HRnS2daAyjKO",
        "outputId": "9e50ebe4-1ed9-4ffd-a260-c8225252fffc"
      },
      "outputs": [
        {
          "name": "stdout",
          "output_type": "stream",
          "text": [
            "---Training data before scaling:---\n",
            "          Rainfall_mm  Temperature_Celsius  Days_to_Harvest\n",
            "count  799815.000000        799815.000000    799815.000000\n",
            "mean      550.064908            27.507143       104.508378\n",
            "std       259.816045             7.219427        25.953553\n",
            "min       100.000896            15.000034        60.000000\n",
            "25%       325.016575            21.260131        82.000000\n",
            "50%       550.188354            27.509700       105.000000\n",
            "75%       774.824959            33.752779       127.000000\n",
            "max       999.998098            39.999974       149.000000\n",
            "\n",
            "---Training data after scaling:---\n",
            "         Rainfall_mm  Temperature_Celsius  Days_to_Harvest\n",
            "count  7.998150e+05         7.998150e+05     7.998150e+05\n",
            "mean  -8.383323e-16        -2.604582e-15     1.167692e-16\n",
            "std    1.000001e+00         1.000001e+00     1.000001e+00\n",
            "min   -1.732242e+00        -1.732425e+00    -1.714925e+00\n",
            "25%   -8.661839e-01        -8.653063e-01    -8.672567e-01\n",
            "50%    4.751289e-04         3.542213e-04     1.894241e-02\n",
            "75%    8.650743e-01         8.651157e-01     8.666111e-01\n",
            "max    1.731739e+00         1.730447e+00     1.714280e+00\n"
          ]
        }
      ],
      "source": [
        "import sklearn\n",
        "from sklearn.model_selection import train_test_split\n",
        "from sklearn.preprocessing import StandardScaler\n",
        "\n",
        "# drop the target variable\n",
        "data3 = data2.drop('Yield_tons_per_hectare', axis=1)\n",
        "target = data2['Yield_tons_per_hectare']\n",
        "\n",
        "# split the data\n",
        "X_train, X_test, Y_train, Y_test = train_test_split(data3, target, test_size=0.2, random_state=42, shuffle=True)\n",
        "\n",
        "# numeric data\n",
        "numeric_data = ['Rainfall_mm', 'Temperature_Celsius', 'Days_to_Harvest']\n",
        "\n",
        "# Scale numeric features (for linear models)\n",
        "scaler = StandardScaler()\n",
        "\n",
        "# make copies of the data\n",
        "X_train_scaled = X_train.copy()\n",
        "X_test_scaled = X_test.copy()\n",
        "\n",
        "# fit and transform the training data\n",
        "X_train_scaled[numeric_data] = scaler.fit_transform(X_train[numeric_data])\n",
        "\n",
        "# transform the test data\n",
        "X_test_scaled[numeric_data] = scaler.transform(X_test[numeric_data])\n",
        "\n",
        "print(\"---Training data before scaling:---\\n\", X_train.describe())\n",
        "print(\"\\n---Training data after scaling:---\\n\",  X_train_scaled.describe())"
      ]
    },
    {
      "cell_type": "markdown",
      "metadata": {
        "id": "iufVLHos6OZf"
      },
      "source": [
        "**comment:**  \n",
        "We can observe that the scaling  is necessary linear models given the varying scales for our numerical data. The values are now all centered around 0."
      ]
    },
    {
      "cell_type": "markdown",
      "metadata": {
        "id": "TiXqY09Iyl5M"
      },
      "source": [
        "**Encoding the categorical data**  \n",
        "We will encode the categorical features to enable the models to interpret them, as most algorithms require numerical input.\n",
        "\n",
        "* Nominal Features (`Region`, `Soil_Type`, `Crop`, and `Weather_Condition`): We will use One-Hot Encoding  because these categories are not ordered.\n",
        "* Binary Features (`Fertilizer_used` and `Irrigation_Used`): Since these features are simple True/False, we will use a binary mapping (True=1, False=0)\n",
        "\n",
        "This encoding process will also be fitted only on the training set and then applied to transform both the training and test sets within the modeling pipeline to maintain data integrity and prevent leakage."
      ]
    },
    {
      "cell_type": "code",
      "execution_count": 14,
      "metadata": {
        "id": "ZKl58sjB3t1_"
      },
      "outputs": [],
      "source": [
        "from sklearn.preprocessing import OneHotEncoder\n",
        "\n",
        "# defining the categorical features\n",
        "nominal_features = ['Region', 'Soil_Type', 'Crop', 'Weather_Condition']\n",
        "binary_features = ['Fertilizer_Used', 'Irrigation_Used']\n",
        "\n",
        "# make copies of the dataset\n",
        "X_train_encoded = X_train_scaled.copy()\n",
        "X_test_encoded = X_test_scaled.copy()\n",
        "\n",
        "# manually encode binary features (1 = true and 0=false);\n",
        "for col in binary_features:\n",
        "    X_train_encoded[col] = X_train_encoded[col].map({True: 1, False: 0})\n",
        "    X_test_encoded[col] = X_test_encoded[col].map({True: 1, False: 0})\n",
        "\n",
        "# Encode nominal features using One-Hot Encoder\n",
        "## Initialize encoder\n",
        "encoder = OneHotEncoder(sparse_output=False, handle_unknown='ignore')\n",
        "\n",
        "## Fit and train encoder on training set\n",
        "train_encoded = encoder.fit_transform(X_train_encoded[nominal_features])\n",
        "train_encoder = pd.DataFrame(train_encoded, columns=encoder.get_feature_names_out(nominal_features),\n",
        "                         index=X_train_encoded.index) # index preserves row labels\n",
        "## Transform test set\n",
        "test_encoder = pd.DataFrame(encoder.transform(X_test_encoded[nominal_features]),\n",
        "                        columns=encoder.get_feature_names_out(nominal_features),\n",
        "                        index=X_test_encoded.index)\n",
        "\n",
        "## Drop original nominal columns and concatenate the encoded ones\n",
        "X_train_final = pd.concat([X_train_encoded.drop(nominal_features, axis=1), train_encoder], axis=1)\n",
        "X_test_final = pd.concat([X_test_encoded.drop(nominal_features, axis=1), test_encoder], axis=1)\n"
      ]
    },
    {
      "cell_type": "code",
      "execution_count": 15,
      "metadata": {
        "colab": {
          "base_uri": "https://localhost:8080/"
        },
        "id": "bQwbzBGbF7eg",
        "outputId": "dbd28dd2-57bc-49eb-8522-2a34073dc3f2"
      },
      "outputs": [
        {
          "name": "stdout",
          "output_type": "stream",
          "text": [
            "---Training data before encoding:---\n",
            " shape: (799815, 9) \n",
            "        Region Soil_Type     Crop Weather_Condition  Fertilizer_Used  \\\n",
            "816419   West      Clay  Soybean            Cloudy             True   \n",
            "180578  North     Sandy   Barley             Sunny             True   \n",
            "766106  North     Peaty   Cotton            Cloudy             True   \n",
            "207834  North    Chalky    Wheat             Rainy            False   \n",
            "411634  North      Loam  Soybean            Cloudy             True   \n",
            "\n",
            "        Irrigation_Used  \n",
            "816419            False  \n",
            "180578            False  \n",
            "766106             True  \n",
            "207834            False  \n",
            "411634             True  \n",
            "\n",
            "---Training data after encoding:---\n",
            " shape: (799815, 24) \n",
            "         Rainfall_mm  Temperature_Celsius  Fertilizer_Used  Irrigation_Used  \\\n",
            "816419     1.097792             1.721608                1                0   \n",
            "180578     1.222346             1.055298                1                0   \n",
            "766106    -1.079415            -1.067394                1                1   \n",
            "207834     1.437720            -0.842185                0                0   \n",
            "411634    -0.751624            -1.263582                1                1   \n",
            "\n",
            "        Days_to_Harvest  Region_East  Region_North  Region_South  Region_West  \\\n",
            "816419        -1.059909          0.0           0.0           0.0          1.0   \n",
            "180578         1.020733          0.0           1.0           0.0          0.0   \n",
            "766106        -1.445213          0.0           1.0           0.0          0.0   \n",
            "207834         0.905141          0.0           1.0           0.0          0.0   \n",
            "411634        -0.327831          0.0           1.0           0.0          0.0   \n",
            "\n",
            "        Soil_Type_Chalky  ...  Soil_Type_Silt  Crop_Barley  Crop_Cotton  \\\n",
            "816419               0.0  ...             0.0          0.0          0.0   \n",
            "180578               0.0  ...             0.0          1.0          0.0   \n",
            "766106               0.0  ...             0.0          0.0          1.0   \n",
            "207834               1.0  ...             0.0          0.0          0.0   \n",
            "411634               0.0  ...             0.0          0.0          0.0   \n",
            "\n",
            "        Crop_Maize  Crop_Rice  Crop_Soybean  Crop_Wheat  \\\n",
            "816419         0.0        0.0           1.0         0.0   \n",
            "180578         0.0        0.0           0.0         0.0   \n",
            "766106         0.0        0.0           0.0         0.0   \n",
            "207834         0.0        0.0           0.0         1.0   \n",
            "411634         0.0        0.0           1.0         0.0   \n",
            "\n",
            "        Weather_Condition_Cloudy  Weather_Condition_Rainy  \\\n",
            "816419                       1.0                      0.0   \n",
            "180578                       0.0                      0.0   \n",
            "766106                       1.0                      0.0   \n",
            "207834                       0.0                      1.0   \n",
            "411634                       1.0                      0.0   \n",
            "\n",
            "        Weather_Condition_Sunny  \n",
            "816419                      0.0  \n",
            "180578                      1.0  \n",
            "766106                      0.0  \n",
            "207834                      0.0  \n",
            "411634                      0.0  \n",
            "\n",
            "[5 rows x 24 columns]\n"
          ]
        }
      ],
      "source": [
        "print(\"---Training data before encoding:---\\n\", 'shape:' ,X_train.shape ,'\\n',X_train[nominal_features + binary_features].head())\n",
        "print(\"\\n---Training data after encoding:---\\n\", 'shape:', X_train_final.shape,'\\n', X_train_final.head())"
      ]
    },
    {
      "cell_type": "markdown",
      "metadata": {
        "id": "2ELL-M_NBsOD"
      },
      "source": [
        "**comment:**  \n",
        "Encoding the categorical data increases the dimension of the data from 9 to 24"
      ]
    },
    {
      "cell_type": "markdown",
      "metadata": {
        "id": "1KRewu83JFG5"
      },
      "source": [
        "## **Evaluation protocol**"
      ]
    },
    {
      "cell_type": "markdown",
      "metadata": {
        "id": "0NJTcfPakNpC"
      },
      "source": [
        "### **Data split strategy**\n",
        "\n",
        "[1] Hold out test set - 80% train and 20% test   \n",
        "\n",
        "**Justification:** given the 1mil data points, 20% test is still enough data to evaluate generalization.\n",
        "\n",
        "Also, **shuffle** before splitting because if we don't, the test set might accidentally contain only certain regions/crops and that would bias the evaluation.  \n",
        "\n",
        "\n",
        "[2] Nested cross-validation on the training set\n",
        "to tune hyperparameters and evaluate models robustly, we will use nested cross-validation combined with GroupKFold, grouping by `Region`.\n",
        "\n",
        "Outer loop (GroupKFold): will be used for model assessment, ensuring that samples from the same region never appear in both training and validation folds. This provides an unbiased estimate of model performance on unseen regions.\n",
        "\n",
        "Inner loop (GroupKFold): will be used for hyperparameter tuning through grid or randomized search, keeping hyperparameter optimization separated from model evaluation.\n",
        "\n",
        "**Justification:** Crop yields within the same region may share similarities. GroupKFold prevents data leakage between regions and ensures the model is evaluated fairly. Nested CV prevents the validation data from influencing hyperparameter selection and this will give a fair estimate of generalization performance.\n",
        "\n",
        "\n",
        "[3] Final model training - train the best model with tuned hyperparameters on the full training set (80%) and evaluate once on the held-out test set (20%).\n",
        "\n",
        "**Justification:** avoids data leakage in that the test set remains completely unseen until the very end."
      ]
    },
    {
      "cell_type": "markdown",
      "metadata": {
        "id": "1IEA1KjR3TBl"
      },
      "source": [
        "### **Metrics to be used**  \n",
        "In this study, we will evaluate the performance of our crop yield estimation model using two commonly used regression metrics: Root Mean Squared Error (RMSE) and Mean Absolute Error (MAE).\n",
        "\n",
        "**RMSE** provides an indication of the model’s prediction error in the same units as the target variable and is particularly sensitive to large errors.\n",
        "\n",
        "**MAE**, on the other hand, measures the average magnitude of the errors regardless of their direction and is less influenced by outliers."
      ]
    },
    {
      "cell_type": "code",
      "execution_count": 19,
      "metadata": {},
      "outputs": [],
      "source": [
        "import pandas as pd\n",
        "import numpy as np\n",
        "from scipy.stats import chi2_contingency\n",
        "\n",
        "def cramers_v(x, y):\n",
        "    confusion_matrix = pd.crosstab(x, y)\n",
        "    chi2 = chi2_contingency(confusion_matrix)[0]\n",
        "    n = confusion_matrix.sum().sum()\n",
        "    phi2 = chi2 / n\n",
        "    r, k = confusion_matrix.shape\n",
        "    phi2corr = max(0, phi2 - ((k-1)*(r-1))/(n-1))  \n",
        "    rcorr = r - ((r-1)**2)/(n-1)\n",
        "    kcorr = k - ((k-1)**2)/(n-1)\n",
        "    return np.sqrt(phi2corr / min((kcorr-1), (rcorr-1)))\n",
        "\n",
        "categorical_features = ['Region', 'Soil_Type', 'Crop', 'Weather_Condition', 'Fertilizer_Used', 'Irrigation_Used']\n",
        "\n",
        "# Create Cramér's V correlation matrix\n",
        "cramers_results = pd.DataFrame(index=categorical_features, columns=categorical_features)\n",
        "\n",
        "for col1 in categorical_features:\n",
        "    for col2 in categorical_features:\n",
        "        if col1 == col2:\n",
        "            cramers_results.loc[col1, col2] = 1.0\n",
        "        else:\n",
        "            cramers_results.loc[col1, col2] = cramers_v(data[col1], data[col2])\n",
        "\n",
        "cramers_results = cramers_results.astype(float)\n"
      ]
    },
    {
      "cell_type": "code",
      "execution_count": 20,
      "metadata": {},
      "outputs": [
        {
          "data": {
            "image/png": "[encoded data removed]",
            "text/plain": [
              "<Figure size 800x600 with 2 Axes>"
            ]
          },
          "metadata": {},
          "output_type": "display_data"
        }
      ],
      "source": [
        "import seaborn as sns\n",
        "import matplotlib.pyplot as plt\n",
        "\n",
        "plt.figure(figsize=(8,6))\n",
        "sns.heatmap(cramers_results, annot=True, cmap=\"coolwarm\", fmt=\".2f\")\n",
        "plt.title(\"Cramér’s V Correlation Between Categorical Features\", fontsize=14, fontweight='bold', pad=12)\n",
        "plt.show()\n"
      ]
    },
    {
      "cell_type": "code",
      "execution_count": 21,
      "metadata": {},
      "outputs": [
        {
          "name": "stdout",
          "output_type": "stream",
          "text": [
            "Region object 4\n",
            "Soil_Type object 6\n",
            "Crop object 6\n",
            "Weather_Condition object 3\n",
            "Fertilizer_Used bool 2\n",
            "Irrigation_Used bool 2\n"
          ]
        }
      ],
      "source": [
        "for col in ['Region', 'Soil_Type', 'Crop', 'Weather_Condition', 'Fertilizer_Used', 'Irrigation_Used']:\n",
        "    print(col, data[col].dtype, data[col].nunique())\n"
      ]
    }
  ],
  "metadata": {
    "colab": {
      "provenance": [],
      "toc_visible": true
    },
    "kernelspec": {
      "display_name": "ml_env",
      "language": "python",
      "name": "python3"
    },
    "language_info": {
      "codemirror_mode": {
        "name": "ipython",
        "version": 3
      },
      "file_extension": ".py",
      "mimetype": "text/x-python",
      "name": "python",
      "nbconvert_exporter": "python",
      "pygments_lexer": "ipython3",
      "version": "3.10.18"
    }
  },
  "nbformat": 4,
  "nbformat_minor": 0
}
